{
 "cells": [
  {
   "cell_type": "code",
   "execution_count": 1,
   "id": "45d39538",
   "metadata": {},
   "outputs": [
    {
     "name": "stdout",
     "output_type": "stream",
     "text": [
      "enter the number27\n",
      "enter the power of the number2\n",
      "the result is\n",
      "729\n"
     ]
    }
   ],
   "source": [
    "class powr():\n",
    "    def perform(self):\n",
    "        result=1\n",
    "        for i in range(self.powrr):\n",
    "            result=result*self.number\n",
    "        print('the result is')\n",
    "        print(result)\n",
    "i=powr()\n",
    "i.number=int(input('enter the number'))\n",
    "i.powrr=int(input('enter the power of the number'))\n",
    "i.perform()"
   ]
  },
  {
   "cell_type": "code",
   "execution_count": null,
   "id": "f56533fe",
   "metadata": {},
   "outputs": [],
   "source": []
  }
 ],
 "metadata": {
  "kernelspec": {
   "display_name": "Python 3 (ipykernel)",
   "language": "python",
   "name": "python3"
  },
  "language_info": {
   "codemirror_mode": {
    "name": "ipython",
    "version": 3
   },
   "file_extension": ".py",
   "mimetype": "text/x-python",
   "name": "python",
   "nbconvert_exporter": "python",
   "pygments_lexer": "ipython3",
   "version": "3.9.7"
  }
 },
 "nbformat": 4,
 "nbformat_minor": 5
}
